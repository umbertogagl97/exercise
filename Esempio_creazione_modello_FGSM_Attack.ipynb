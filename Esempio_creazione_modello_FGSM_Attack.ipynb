{
  "nbformat": 4,
  "nbformat_minor": 0,
  "metadata": {
    "colab": {
      "name": "Esempio_creazione_modello_FGSM_Attack.ipynb",
      "provenance": [],
      "collapsed_sections": [
        "-ycpjmyb4Cxe",
        "dherpFOH0Uau",
        "l8z4jggt3ZUG",
        "9XepXK-ny3XN",
        "ZkxmNsf41B6Y",
        "tFFWkmjX2j5P",
        "_UByTbhH01i3",
        "4X4ZaKM8z9hk",
        "nkdhgkab0e-B",
        "fHJP8DBX0k90"
      ],
      "mount_file_id": "1LFvCjg8zmdzf9GGORH3M3sLCejtQ0qUI",
      "authorship_tag": "ABX9TyNYdVmtGVkTSdF9UJ/EdWhC",
      "include_colab_link": true
    },
    "kernelspec": {
      "name": "python3",
      "display_name": "Python 3"
    },
    "language_info": {
      "name": "python"
    },
    "accelerator": "GPU"
  },
  "cells": [
    {
      "cell_type": "markdown",
      "metadata": {
        "id": "view-in-github",
        "colab_type": "text"
      },
      "source": [
        "<a href=\"https://colab.research.google.com/github/umbertogagl97/exercise/blob/main/Esempio_creazione_modello_FGSM_Attack.ipynb\" target=\"_parent\"><img src=\"https://colab.research.google.com/assets/colab-badge.svg\" alt=\"Open In Colab\"/></a>"
      ]
    },
    {
      "cell_type": "markdown",
      "metadata": {
        "id": "nGmEBN4oxqUO"
      },
      "source": [
        "# **Import iniziali**"
      ]
    },
    {
      "cell_type": "markdown",
      "metadata": {
        "id": "OHENSlCXxzcr"
      },
      "source": [
        "Import ART"
      ]
    },
    {
      "cell_type": "code",
      "metadata": {
        "id": "hIKN5Oqa-i6u",
        "colab": {
          "base_uri": "https://localhost:8080/"
        },
        "outputId": "f1a75f36-9f98-4965-a11c-b60c04754fd1"
      },
      "source": [
        "#importa ART\n",
        "!pip install adversarial-robustness-toolbox"
      ],
      "execution_count": 1,
      "outputs": [
        {
          "output_type": "stream",
          "name": "stdout",
          "text": [
            "Collecting adversarial-robustness-toolbox\n",
            "  Downloading adversarial_robustness_toolbox-1.8.0-py3-none-any.whl (1.1 MB)\n",
            "\u001b[?25l\r\u001b[K     |▎                               | 10 kB 24.7 MB/s eta 0:00:01\r\u001b[K     |▋                               | 20 kB 21.1 MB/s eta 0:00:01\r\u001b[K     |█                               | 30 kB 15.6 MB/s eta 0:00:01\r\u001b[K     |█▏                              | 40 kB 14.2 MB/s eta 0:00:01\r\u001b[K     |█▌                              | 51 kB 5.3 MB/s eta 0:00:01\r\u001b[K     |█▉                              | 61 kB 5.8 MB/s eta 0:00:01\r\u001b[K     |██▏                             | 71 kB 5.3 MB/s eta 0:00:01\r\u001b[K     |██▍                             | 81 kB 6.0 MB/s eta 0:00:01\r\u001b[K     |██▊                             | 92 kB 5.9 MB/s eta 0:00:01\r\u001b[K     |███                             | 102 kB 5.2 MB/s eta 0:00:01\r\u001b[K     |███▎                            | 112 kB 5.2 MB/s eta 0:00:01\r\u001b[K     |███▋                            | 122 kB 5.2 MB/s eta 0:00:01\r\u001b[K     |████                            | 133 kB 5.2 MB/s eta 0:00:01\r\u001b[K     |████▎                           | 143 kB 5.2 MB/s eta 0:00:01\r\u001b[K     |████▌                           | 153 kB 5.2 MB/s eta 0:00:01\r\u001b[K     |████▉                           | 163 kB 5.2 MB/s eta 0:00:01\r\u001b[K     |█████▏                          | 174 kB 5.2 MB/s eta 0:00:01\r\u001b[K     |█████▍                          | 184 kB 5.2 MB/s eta 0:00:01\r\u001b[K     |█████▊                          | 194 kB 5.2 MB/s eta 0:00:01\r\u001b[K     |██████                          | 204 kB 5.2 MB/s eta 0:00:01\r\u001b[K     |██████▍                         | 215 kB 5.2 MB/s eta 0:00:01\r\u001b[K     |██████▋                         | 225 kB 5.2 MB/s eta 0:00:01\r\u001b[K     |███████                         | 235 kB 5.2 MB/s eta 0:00:01\r\u001b[K     |███████▎                        | 245 kB 5.2 MB/s eta 0:00:01\r\u001b[K     |███████▌                        | 256 kB 5.2 MB/s eta 0:00:01\r\u001b[K     |███████▉                        | 266 kB 5.2 MB/s eta 0:00:01\r\u001b[K     |████████▏                       | 276 kB 5.2 MB/s eta 0:00:01\r\u001b[K     |████████▌                       | 286 kB 5.2 MB/s eta 0:00:01\r\u001b[K     |████████▊                       | 296 kB 5.2 MB/s eta 0:00:01\r\u001b[K     |█████████                       | 307 kB 5.2 MB/s eta 0:00:01\r\u001b[K     |█████████▍                      | 317 kB 5.2 MB/s eta 0:00:01\r\u001b[K     |█████████▋                      | 327 kB 5.2 MB/s eta 0:00:01\r\u001b[K     |██████████                      | 337 kB 5.2 MB/s eta 0:00:01\r\u001b[K     |██████████▎                     | 348 kB 5.2 MB/s eta 0:00:01\r\u001b[K     |██████████▋                     | 358 kB 5.2 MB/s eta 0:00:01\r\u001b[K     |██████████▉                     | 368 kB 5.2 MB/s eta 0:00:01\r\u001b[K     |███████████▏                    | 378 kB 5.2 MB/s eta 0:00:01\r\u001b[K     |███████████▌                    | 389 kB 5.2 MB/s eta 0:00:01\r\u001b[K     |███████████▊                    | 399 kB 5.2 MB/s eta 0:00:01\r\u001b[K     |████████████                    | 409 kB 5.2 MB/s eta 0:00:01\r\u001b[K     |████████████▍                   | 419 kB 5.2 MB/s eta 0:00:01\r\u001b[K     |████████████▊                   | 430 kB 5.2 MB/s eta 0:00:01\r\u001b[K     |█████████████                   | 440 kB 5.2 MB/s eta 0:00:01\r\u001b[K     |█████████████▎                  | 450 kB 5.2 MB/s eta 0:00:01\r\u001b[K     |█████████████▋                  | 460 kB 5.2 MB/s eta 0:00:01\r\u001b[K     |█████████████▉                  | 471 kB 5.2 MB/s eta 0:00:01\r\u001b[K     |██████████████▏                 | 481 kB 5.2 MB/s eta 0:00:01\r\u001b[K     |██████████████▌                 | 491 kB 5.2 MB/s eta 0:00:01\r\u001b[K     |██████████████▉                 | 501 kB 5.2 MB/s eta 0:00:01\r\u001b[K     |███████████████                 | 512 kB 5.2 MB/s eta 0:00:01\r\u001b[K     |███████████████▍                | 522 kB 5.2 MB/s eta 0:00:01\r\u001b[K     |███████████████▊                | 532 kB 5.2 MB/s eta 0:00:01\r\u001b[K     |████████████████                | 542 kB 5.2 MB/s eta 0:00:01\r\u001b[K     |████████████████▎               | 552 kB 5.2 MB/s eta 0:00:01\r\u001b[K     |████████████████▋               | 563 kB 5.2 MB/s eta 0:00:01\r\u001b[K     |█████████████████               | 573 kB 5.2 MB/s eta 0:00:01\r\u001b[K     |█████████████████▏              | 583 kB 5.2 MB/s eta 0:00:01\r\u001b[K     |█████████████████▌              | 593 kB 5.2 MB/s eta 0:00:01\r\u001b[K     |█████████████████▉              | 604 kB 5.2 MB/s eta 0:00:01\r\u001b[K     |██████████████████              | 614 kB 5.2 MB/s eta 0:00:01\r\u001b[K     |██████████████████▍             | 624 kB 5.2 MB/s eta 0:00:01\r\u001b[K     |██████████████████▊             | 634 kB 5.2 MB/s eta 0:00:01\r\u001b[K     |███████████████████             | 645 kB 5.2 MB/s eta 0:00:01\r\u001b[K     |███████████████████▎            | 655 kB 5.2 MB/s eta 0:00:01\r\u001b[K     |███████████████████▋            | 665 kB 5.2 MB/s eta 0:00:01\r\u001b[K     |████████████████████            | 675 kB 5.2 MB/s eta 0:00:01\r\u001b[K     |████████████████████▏           | 686 kB 5.2 MB/s eta 0:00:01\r\u001b[K     |████████████████████▌           | 696 kB 5.2 MB/s eta 0:00:01\r\u001b[K     |████████████████████▉           | 706 kB 5.2 MB/s eta 0:00:01\r\u001b[K     |█████████████████████▏          | 716 kB 5.2 MB/s eta 0:00:01\r\u001b[K     |█████████████████████▍          | 727 kB 5.2 MB/s eta 0:00:01\r\u001b[K     |█████████████████████▊          | 737 kB 5.2 MB/s eta 0:00:01\r\u001b[K     |██████████████████████          | 747 kB 5.2 MB/s eta 0:00:01\r\u001b[K     |██████████████████████▎         | 757 kB 5.2 MB/s eta 0:00:01\r\u001b[K     |██████████████████████▋         | 768 kB 5.2 MB/s eta 0:00:01\r\u001b[K     |███████████████████████         | 778 kB 5.2 MB/s eta 0:00:01\r\u001b[K     |███████████████████████▎        | 788 kB 5.2 MB/s eta 0:00:01\r\u001b[K     |███████████████████████▌        | 798 kB 5.2 MB/s eta 0:00:01\r\u001b[K     |███████████████████████▉        | 808 kB 5.2 MB/s eta 0:00:01\r\u001b[K     |████████████████████████▏       | 819 kB 5.2 MB/s eta 0:00:01\r\u001b[K     |████████████████████████▍       | 829 kB 5.2 MB/s eta 0:00:01\r\u001b[K     |████████████████████████▊       | 839 kB 5.2 MB/s eta 0:00:01\r\u001b[K     |█████████████████████████       | 849 kB 5.2 MB/s eta 0:00:01\r\u001b[K     |█████████████████████████▍      | 860 kB 5.2 MB/s eta 0:00:01\r\u001b[K     |█████████████████████████▋      | 870 kB 5.2 MB/s eta 0:00:01\r\u001b[K     |██████████████████████████      | 880 kB 5.2 MB/s eta 0:00:01\r\u001b[K     |██████████████████████████▎     | 890 kB 5.2 MB/s eta 0:00:01\r\u001b[K     |██████████████████████████▌     | 901 kB 5.2 MB/s eta 0:00:01\r\u001b[K     |██████████████████████████▉     | 911 kB 5.2 MB/s eta 0:00:01\r\u001b[K     |███████████████████████████▏    | 921 kB 5.2 MB/s eta 0:00:01\r\u001b[K     |███████████████████████████▌    | 931 kB 5.2 MB/s eta 0:00:01\r\u001b[K     |███████████████████████████▊    | 942 kB 5.2 MB/s eta 0:00:01\r\u001b[K     |████████████████████████████    | 952 kB 5.2 MB/s eta 0:00:01\r\u001b[K     |████████████████████████████▍   | 962 kB 5.2 MB/s eta 0:00:01\r\u001b[K     |████████████████████████████▋   | 972 kB 5.2 MB/s eta 0:00:01\r\u001b[K     |█████████████████████████████   | 983 kB 5.2 MB/s eta 0:00:01\r\u001b[K     |█████████████████████████████▎  | 993 kB 5.2 MB/s eta 0:00:01\r\u001b[K     |█████████████████████████████▋  | 1.0 MB 5.2 MB/s eta 0:00:01\r\u001b[K     |█████████████████████████████▉  | 1.0 MB 5.2 MB/s eta 0:00:01\r\u001b[K     |██████████████████████████████▏ | 1.0 MB 5.2 MB/s eta 0:00:01\r\u001b[K     |██████████████████████████████▌ | 1.0 MB 5.2 MB/s eta 0:00:01\r\u001b[K     |██████████████████████████████▊ | 1.0 MB 5.2 MB/s eta 0:00:01\r\u001b[K     |███████████████████████████████ | 1.1 MB 5.2 MB/s eta 0:00:01\r\u001b[K     |███████████████████████████████▍| 1.1 MB 5.2 MB/s eta 0:00:01\r\u001b[K     |███████████████████████████████▊| 1.1 MB 5.2 MB/s eta 0:00:01\r\u001b[K     |████████████████████████████████| 1.1 MB 5.2 MB/s eta 0:00:01\r\u001b[K     |████████████████████████████████| 1.1 MB 5.2 MB/s \n",
            "\u001b[?25hRequirement already satisfied: tqdm in /usr/local/lib/python3.7/dist-packages (from adversarial-robustness-toolbox) (4.62.2)\n",
            "Requirement already satisfied: scipy>=1.4.1 in /usr/local/lib/python3.7/dist-packages (from adversarial-robustness-toolbox) (1.4.1)\n",
            "Collecting numba~=0.53.1\n",
            "  Downloading numba-0.53.1-cp37-cp37m-manylinux2014_x86_64.whl (3.4 MB)\n",
            "\u001b[K     |████████████████████████████████| 3.4 MB 34.6 MB/s \n",
            "\u001b[?25hRequirement already satisfied: six in /usr/local/lib/python3.7/dist-packages (from adversarial-robustness-toolbox) (1.15.0)\n",
            "Requirement already satisfied: setuptools in /usr/local/lib/python3.7/dist-packages (from adversarial-robustness-toolbox) (57.4.0)\n",
            "Requirement already satisfied: scikit-learn<0.24.3,>=0.22.2 in /usr/local/lib/python3.7/dist-packages (from adversarial-robustness-toolbox) (0.22.2.post1)\n",
            "Requirement already satisfied: numpy>=1.18.0 in /usr/local/lib/python3.7/dist-packages (from adversarial-robustness-toolbox) (1.19.5)\n",
            "Collecting llvmlite<0.37,>=0.36.0rc1\n",
            "  Downloading llvmlite-0.36.0-cp37-cp37m-manylinux2010_x86_64.whl (25.3 MB)\n",
            "\u001b[K     |████████████████████████████████| 25.3 MB 82 kB/s \n",
            "\u001b[?25hRequirement already satisfied: joblib>=0.11 in /usr/local/lib/python3.7/dist-packages (from scikit-learn<0.24.3,>=0.22.2->adversarial-robustness-toolbox) (1.0.1)\n",
            "Installing collected packages: llvmlite, numba, adversarial-robustness-toolbox\n",
            "  Attempting uninstall: llvmlite\n",
            "    Found existing installation: llvmlite 0.34.0\n",
            "    Uninstalling llvmlite-0.34.0:\n",
            "      Successfully uninstalled llvmlite-0.34.0\n",
            "  Attempting uninstall: numba\n",
            "    Found existing installation: numba 0.51.2\n",
            "    Uninstalling numba-0.51.2:\n",
            "      Successfully uninstalled numba-0.51.2\n",
            "Successfully installed adversarial-robustness-toolbox-1.8.0 llvmlite-0.36.0 numba-0.53.1\n"
          ]
        }
      ]
    },
    {
      "cell_type": "markdown",
      "metadata": {
        "id": "AHA120xNx0-M"
      },
      "source": [
        "Librerie"
      ]
    },
    {
      "cell_type": "code",
      "metadata": {
        "id": "01RXI-DDIb3C"
      },
      "source": [
        "#Librerie\n",
        "import tensorflow as tf\n",
        "\n",
        "tf.compat.v1.disable_eager_execution()\n",
        "from tensorflow.keras.models import Sequential\n",
        "from tensorflow.keras.layers import Dense, Flatten, Conv2D, MaxPooling2D, Activation, Dropout\n",
        "from tensorflow.keras.losses import categorical_crossentropy\n",
        "from tensorflow.keras.optimizers import Adam\n",
        "import numpy as np\n",
        "\n",
        "from art.attacks.evasion import FastGradientMethod\n",
        "from art.estimators.classification import KerasClassifier\n",
        "from art.utils import load_dataset\n",
        "\n",
        "import cv2\n",
        "from google.colab.patches import cv2_imshow\n",
        "\n",
        "#import torch"
      ],
      "execution_count": 2,
      "outputs": []
    },
    {
      "cell_type": "markdown",
      "metadata": {
        "id": "-ycpjmyb4Cxe"
      },
      "source": [
        "#**Def variabili**"
      ]
    },
    {
      "cell_type": "code",
      "metadata": {
        "id": "4hMuySVI4GgY"
      },
      "source": [
        "#salvataggio modello\n",
        "model_save_name = 'model_DenseNet201'\n",
        "path_model_save = F\"/content/gdrive/My Drive/ModelliCNN/{model_save_name}\" \n",
        "\n",
        "#immagini google\n",
        "path_img_google=\"/content/gdrive/MyDrive/immagini_google/\""
      ],
      "execution_count": null,
      "outputs": []
    },
    {
      "cell_type": "markdown",
      "metadata": {
        "id": "dherpFOH0Uau"
      },
      "source": [
        "# **Collegamento google driv**e"
      ]
    },
    {
      "cell_type": "code",
      "metadata": {
        "colab": {
          "base_uri": "https://localhost:8080/"
        },
        "id": "vyvTOQw-aHRP",
        "outputId": "6d7b77c0-9976-4bff-dfec-75bdae550946"
      },
      "source": [
        "#collegamento google drive\n",
        "from google.colab import drive\n",
        "drive.mount('/content/gdrive')"
      ],
      "execution_count": null,
      "outputs": [
        {
          "output_type": "stream",
          "name": "stdout",
          "text": [
            "Drive already mounted at /content/gdrive; to attempt to forcibly remount, call drive.mount(\"/content/gdrive\", force_remount=True).\n"
          ]
        }
      ]
    },
    {
      "cell_type": "markdown",
      "metadata": {
        "id": "5X10jetEyAax"
      },
      "source": [
        "# **Dataset**"
      ]
    },
    {
      "cell_type": "markdown",
      "metadata": {
        "id": "eAtct4Tjyb0t"
      },
      "source": [
        "Load dataset stl10"
      ]
    },
    {
      "cell_type": "code",
      "metadata": {
        "id": "6hypnJdQu8lY"
      },
      "source": [
        "#10 classes: airplane, bird, car, cat, deer, dog, horse, monkey, ship, truck.\n",
        "#96x96 pixels, colored.\n",
        "(x_train, y_train), (x_test_tot, y_test_tot), min_, max_ = load_dataset(str(\"stl10\")) #carica train e test set"
      ],
      "execution_count": 4,
      "outputs": []
    },
    {
      "cell_type": "code",
      "metadata": {
        "colab": {
          "base_uri": "https://localhost:8080/"
        },
        "id": "ez_iiYZtu_-E",
        "outputId": "1ab78bad-ee50-454e-b521-97413386365c"
      },
      "source": [
        "print(x_train.shape,x_test_tot.shape)\n",
        "#5000 immagini di train e 8000 di test: 500 train e 800 test per ogni classe"
      ],
      "execution_count": 5,
      "outputs": [
        {
          "output_type": "stream",
          "name": "stdout",
          "text": [
            "(105, 4) (45, 4)\n"
          ]
        }
      ]
    },
    {
      "cell_type": "markdown",
      "metadata": {
        "id": "mbwKfK6vwaKF"
      },
      "source": [
        "Riduzione training set"
      ]
    },
    {
      "cell_type": "code",
      "metadata": {
        "id": "1kN7edZRAIwf"
      },
      "source": [
        "#x_train, y_train = x_train[:500], y_train[:500] #prende solo le prime 500 immagini di training\n",
        "\n",
        "#test set ridotto\n",
        "x_test, y_test = x_test_tot[:500], y_test_tot[:500]\n",
        "\n",
        "#test set totale\n",
        "#x_test, y_test = x_test_tot, y_test_tot"
      ],
      "execution_count": 7,
      "outputs": []
    },
    {
      "cell_type": "markdown",
      "metadata": {
        "id": "HOY_tKeRyrTL"
      },
      "source": [
        "Stampa dimensioni"
      ]
    },
    {
      "cell_type": "code",
      "metadata": {
        "colab": {
          "base_uri": "https://localhost:8080/"
        },
        "id": "QtNBe7ocyqyw",
        "outputId": "48ad4a03-8c38-45b6-83fa-f391b7b7eb2c"
      },
      "source": [
        "im_shape = x_train[0].shape\n",
        "print(\"dimensioni immagine: \",im_shape)\n",
        "print(\"dimensioni train set: \",x_train.shape)\n",
        "print(\"dimensioni vettore classi reali: \",y_train.shape)\n",
        "print(\"dimensioni test set: \",x_test.shape)"
      ],
      "execution_count": 8,
      "outputs": [
        {
          "output_type": "stream",
          "name": "stdout",
          "text": [
            "dimensioni immagine:  (4,)\n",
            "dimensioni train set:  (105, 4)\n",
            "dimensioni vettore classi reali:  (105, 3)\n",
            "dimensioni test set:  (45, 4)\n"
          ]
        }
      ]
    },
    {
      "cell_type": "markdown",
      "metadata": {
        "id": "l8z4jggt3ZUG"
      },
      "source": [
        "#Caricamento modello da drive"
      ]
    },
    {
      "cell_type": "code",
      "metadata": {
        "id": "bOb77pSE3cyB"
      },
      "source": [
        "#load model\n",
        "model= tf.keras.models.load_model(path_model_save)"
      ],
      "execution_count": null,
      "outputs": []
    },
    {
      "cell_type": "markdown",
      "metadata": {
        "id": "9XepXK-ny3XN"
      },
      "source": [
        "# **Creazione modello**"
      ]
    },
    {
      "cell_type": "markdown",
      "metadata": {
        "id": "cf4-dqLky7m0"
      },
      "source": [
        "load vgg16 e freeze livelli inferiori"
      ]
    },
    {
      "cell_type": "code",
      "metadata": {
        "id": "GymaBXhaPMvL",
        "colab": {
          "base_uri": "https://localhost:8080/"
        },
        "outputId": "5b804aa7-b52c-4983-ec28-74320ff42f7d"
      },
      "source": [
        "#creazione rete usando vgg16 preaddestrata e aggiungendo gli ultimi livelli per adattarla al problema di 10 classi\n",
        "from tensorflow.keras import applications as applications\n",
        "\n",
        "#importa rete vgg16 addestrata sul dataset imagenet, esclude gli ultimi livelli e come input pongo dimensioni 96,96,3 \n",
        "model_conv = applications.DenseNet201(weights='imagenet', include_top=False, input_shape=(im_shape[0],im_shape[1],im_shape[2]))\n",
        "\n",
        "# Freeze all the layers (non modifico i pesi dei livelli inferiori)\n",
        "for layer in model_conv.layers[:]:\n",
        "    layer.trainable = False"
      ],
      "execution_count": null,
      "outputs": [
        {
          "output_type": "stream",
          "name": "stdout",
          "text": [
            "WARNING:tensorflow:From /usr/local/lib/python3.7/dist-packages/keras/layers/normalization/batch_normalization.py:520: _colocate_with (from tensorflow.python.framework.ops) is deprecated and will be removed in a future version.\n",
            "Instructions for updating:\n",
            "Colocations handled automatically by placer.\n",
            "Downloading data from https://storage.googleapis.com/tensorflow/keras-applications/densenet/densenet201_weights_tf_dim_ordering_tf_kernels_notop.h5\n",
            "74842112/74836368 [==============================] - 1s 0us/step\n",
            "74850304/74836368 [==============================] - 1s 0us/step\n"
          ]
        }
      ]
    },
    {
      "cell_type": "markdown",
      "metadata": {
        "id": "xyBgJAA6zJcI"
      },
      "source": [
        "Aggiunta livelli superiori (per riaddestrare partire da qui)"
      ]
    },
    {
      "cell_type": "code",
      "metadata": {
        "id": "9h_fBDmpzFa6",
        "colab": {
          "base_uri": "https://localhost:8080/"
        },
        "outputId": "7039ae10-7c9c-4562-a6ea-452da951e5c9"
      },
      "source": [
        "# creo un modello aggiungendo livelli alla rete importata\n",
        "model = Sequential()\n",
        "# Add the vgg convolutional base model\n",
        "model.add(model_conv)\n",
        "# Add new layers\n",
        "model.add(Flatten())\n",
        "model.add(Dense(1024, activation='relu'))\n",
        "model.add(Dropout(0.5))\n",
        "model.add(Dense(10, activation='softmax')) #10: numero di valori in uscita (le classi)\n",
        "\n",
        "#stampa info del modello\n",
        "model.summary()"
      ],
      "execution_count": null,
      "outputs": [
        {
          "output_type": "stream",
          "name": "stdout",
          "text": [
            "Model: \"sequential_3\"\n",
            "_________________________________________________________________\n",
            "Layer (type)                 Output Shape              Param #   \n",
            "=================================================================\n",
            "densenet201 (Functional)     (None, 3, 3, 1920)        18321984  \n",
            "_________________________________________________________________\n",
            "flatten_3 (Flatten)          (None, 17280)             0         \n",
            "_________________________________________________________________\n",
            "dense_6 (Dense)              (None, 1024)              17695744  \n",
            "_________________________________________________________________\n",
            "dropout_3 (Dropout)          (None, 1024)              0         \n",
            "_________________________________________________________________\n",
            "dense_7 (Dense)              (None, 10)                10250     \n",
            "=================================================================\n",
            "Total params: 36,027,978\n",
            "Trainable params: 17,705,994\n",
            "Non-trainable params: 18,321,984\n",
            "_________________________________________________________________\n"
          ]
        }
      ]
    },
    {
      "cell_type": "markdown",
      "metadata": {
        "id": "ZkxmNsf41B6Y"
      },
      "source": [
        "# Training"
      ]
    },
    {
      "cell_type": "markdown",
      "metadata": {
        "id": "YZko74RzzcCr"
      },
      "source": [
        "Configura parametri modello"
      ]
    },
    {
      "cell_type": "code",
      "metadata": {
        "id": "vfXtu3eazk5l"
      },
      "source": [
        "# Configure the model for training (setta i parametri del modello)\n",
        "import keras\n",
        "model.compile(\n",
        "        loss=keras.losses.categorical_crossentropy, optimizer=Adam(learning_rate=1e-4), metrics=[\"accuracy\"]\n",
        "    )"
      ],
      "execution_count": null,
      "outputs": []
    },
    {
      "cell_type": "markdown",
      "metadata": {
        "id": "X-b3YpaWznuq"
      },
      "source": [
        "Training"
      ]
    },
    {
      "cell_type": "code",
      "metadata": {
        "id": "Tr5rYORYzNxu",
        "colab": {
          "base_uri": "https://localhost:8080/"
        },
        "outputId": "8a468dfb-0d1b-4769-c029-15317846e34d"
      },
      "source": [
        "# Train the model: divisione del training set in training e validation con rapporto 80-20\n",
        "history= model.fit(x_train,y_train,epochs=20,batch_size=128)#,validation_split=0.2)\n",
        "#batch 64, lr -5, 35 epoche = 70%\n",
        "#batch 128, lr -3, 20 epoche = 98% --- test set 500 elementi: 69%, re-training senza validation acc test=69%\n",
        "#batch 128, lr -3, 25 epoche, senza validation = 98% ---test set 500 elementi 70%\n",
        "#batch 128, lr -4, 20 epoche = 92%\n",
        "#batch 64, lr -4, 20 epoche = 95%"
      ],
      "execution_count": null,
      "outputs": [
        {
          "output_type": "stream",
          "name": "stdout",
          "text": [
            "Train on 5000 samples\n",
            "Epoch 1/20\n",
            "5000/5000 [==============================] - 14s 3ms/sample - loss: 1.7135 - accuracy: 0.5320\n",
            "Epoch 2/20\n",
            "5000/5000 [==============================] - 11s 2ms/sample - loss: 0.6996 - accuracy: 0.7618\n",
            "Epoch 3/20\n",
            "5000/5000 [==============================] - 11s 2ms/sample - loss: 0.5098 - accuracy: 0.8206\n",
            "Epoch 4/20\n",
            "5000/5000 [==============================] - 11s 2ms/sample - loss: 0.4170 - accuracy: 0.8568\n",
            "Epoch 5/20\n",
            "5000/5000 [==============================] - 11s 2ms/sample - loss: 0.2980 - accuracy: 0.8950\n",
            "Epoch 6/20\n",
            "5000/5000 [==============================] - 11s 2ms/sample - loss: 0.2471 - accuracy: 0.9190\n",
            "Epoch 7/20\n",
            "5000/5000 [==============================] - 11s 2ms/sample - loss: 0.1688 - accuracy: 0.9526\n",
            "Epoch 8/20\n",
            "5000/5000 [==============================] - 11s 2ms/sample - loss: 0.1298 - accuracy: 0.9628\n",
            "Epoch 9/20\n",
            "5000/5000 [==============================] - 11s 2ms/sample - loss: 0.1104 - accuracy: 0.9700\n",
            "Epoch 10/20\n",
            "5000/5000 [==============================] - 11s 2ms/sample - loss: 0.0917 - accuracy: 0.9774\n",
            "Epoch 11/20\n",
            "5000/5000 [==============================] - 11s 2ms/sample - loss: 0.0779 - accuracy: 0.9820\n",
            "Epoch 12/20\n",
            "5000/5000 [==============================] - 11s 2ms/sample - loss: 0.0584 - accuracy: 0.9882\n",
            "Epoch 13/20\n",
            "5000/5000 [==============================] - 11s 2ms/sample - loss: 0.0466 - accuracy: 0.9924\n",
            "Epoch 14/20\n",
            "5000/5000 [==============================] - 11s 2ms/sample - loss: 0.0411 - accuracy: 0.9932\n",
            "Epoch 15/20\n",
            "5000/5000 [==============================] - 11s 2ms/sample - loss: 0.0391 - accuracy: 0.9922\n",
            "Epoch 16/20\n",
            "5000/5000 [==============================] - 11s 2ms/sample - loss: 0.0324 - accuracy: 0.9942\n",
            "Epoch 17/20\n",
            "5000/5000 [==============================] - 11s 2ms/sample - loss: 0.0425 - accuracy: 0.9906\n",
            "Epoch 18/20\n",
            "5000/5000 [==============================] - 11s 2ms/sample - loss: 0.0335 - accuracy: 0.9942\n",
            "Epoch 19/20\n",
            "5000/5000 [==============================] - 11s 2ms/sample - loss: 0.0267 - accuracy: 0.9960\n",
            "Epoch 20/20\n",
            "5000/5000 [==============================] - 11s 2ms/sample - loss: 0.0248 - accuracy: 0.9962\n"
          ]
        }
      ]
    },
    {
      "cell_type": "markdown",
      "metadata": {
        "id": "tFFWkmjX2j5P"
      },
      "source": [
        "#Salvataggio modello"
      ]
    },
    {
      "cell_type": "code",
      "metadata": {
        "id": "TAie77UO2nTs",
        "colab": {
          "base_uri": "https://localhost:8080/"
        },
        "outputId": "1882ae64-9c06-4c71-dcc3-55df3667006b"
      },
      "source": [
        "#salva modello su drive\n",
        "model.save(path_model_save)"
      ],
      "execution_count": null,
      "outputs": [
        {
          "output_type": "stream",
          "name": "stdout",
          "text": [
            "INFO:tensorflow:Assets written to: /content/gdrive/My Drive/ModelliCNN/model_DenseNet201/assets\n"
          ]
        }
      ]
    },
    {
      "cell_type": "markdown",
      "metadata": {
        "id": "VjnPQ4NtzzQH"
      },
      "source": [
        "# **Creazione classificatore ART**"
      ]
    },
    {
      "cell_type": "code",
      "metadata": {
        "id": "OWZ_zpbiZjyd"
      },
      "source": [
        "#creazione classificatore di tipo Keras usando il modello addestrato, poiché ART supporta solo determinati classificatori\n",
        "classifier = KerasClassifier(model=model, clip_values=(min_, max_)) #è un wrapper messo a disposizione da ART per creare un classificatore a partire da un modello addestrato"
      ],
      "execution_count": null,
      "outputs": []
    },
    {
      "cell_type": "markdown",
      "metadata": {
        "id": "_UByTbhH01i3"
      },
      "source": [
        "# Esempio resize"
      ]
    },
    {
      "cell_type": "code",
      "metadata": {
        "id": "GyuRBEcgsiN7"
      },
      "source": [
        "#resized=cv2.resize(x_test1[1,:,:,:],(500,500),interpolation=cv2.INTER_CUBIC)"
      ],
      "execution_count": null,
      "outputs": []
    },
    {
      "cell_type": "markdown",
      "metadata": {
        "id": "4X4ZaKM8z9hk"
      },
      "source": [
        "# **Testing su immagini originali**"
      ]
    },
    {
      "cell_type": "code",
      "metadata": {
        "id": "vvPxa40rAgpa",
        "colab": {
          "base_uri": "https://localhost:8080/"
        },
        "outputId": "11ab0ef5-635f-4708-fbcf-a4630bf568e2"
      },
      "source": [
        "# Evaluate the classifier on the test set \n",
        "value_preds=classifier.predict(x_test) #contiene i valori tra 0 e 1 predetti per ognuna delle 10 classi e per ogni immagine\n",
        "preds = np.argmax(value_preds, axis=1) #(le predizioni vanno da 0 a 9 e indicano la classe predetta)\n",
        "acc = (np.sum(preds == np.argmax(y_test, axis=1)) / y_test.shape[0])*100\n",
        "print(\"Accuracy on test set:\", (round(acc,2)))\n",
        "#print(\"classi predette: \",preds)"
      ],
      "execution_count": null,
      "outputs": [
        {
          "output_type": "stream",
          "name": "stderr",
          "text": [
            "/usr/local/lib/python3.7/dist-packages/keras/engine/training.py:2470: UserWarning: `Model.state_updates` will be removed in a future version. This property should not be used in TensorFlow 2.0, as `updates` are applied automatically.\n",
            "  warnings.warn('`Model.state_updates` will be removed in a future version. '\n"
          ]
        },
        {
          "output_type": "stream",
          "name": "stdout",
          "text": [
            "Accuracy on test set: 77.60000000000001\n"
          ]
        }
      ]
    },
    {
      "cell_type": "markdown",
      "metadata": {
        "id": "Suibji7V0I7j"
      },
      "source": [
        "# **Attacco**"
      ]
    },
    {
      "cell_type": "markdown",
      "metadata": {
        "id": "Fq6B6unj2HcX"
      },
      "source": [
        "Definizione attacco"
      ]
    },
    {
      "cell_type": "code",
      "metadata": {
        "id": "DZ-ghSjs2Ma0"
      },
      "source": [
        "# FGM\n",
        "attack = FastGradientMethod(estimator=classifier, eps=0.1)"
      ],
      "execution_count": null,
      "outputs": []
    },
    {
      "cell_type": "markdown",
      "metadata": {
        "id": "cYPmQSaL2Oxa"
      },
      "source": [
        "Generazione adversarial samples"
      ]
    },
    {
      "cell_type": "code",
      "metadata": {
        "id": "gl_FoOil2SrO"
      },
      "source": [
        "x_test_adv = attack.generate(x=x_test,y=y_test) #aggiunge una perturbazione alle immagini del test set\n",
        "#N.B. si possono passare le classi reali del test set (con y=y_test) e in questo caso FGM calcolerà le perturbazioni in modo che il classificatore\n",
        "#non predica queste classi. Mentre, se non passo y_test, le calcolerà in modo da non fargli predire la classe predetta normalmente (la quale può essere diversa da quella reale\n",
        "#se il classificatore non è corretto)"
      ],
      "execution_count": null,
      "outputs": []
    },
    {
      "cell_type": "markdown",
      "metadata": {
        "id": "P3kr1yAn2UBl"
      },
      "source": [
        "# **Calcolo perturbazioni**"
      ]
    },
    {
      "cell_type": "code",
      "metadata": {
        "id": "MgPraX51Z15a"
      },
      "source": [
        "perturb=x_test_adv-x_test #calcolo della perturbazione\n",
        "\n",
        "perturbation_mean = np.mean(np.abs((x_test_adv - x_test)))\n",
        "\n",
        "#N.B. problema nel calcolo della perturbazione, con la sottrazione si ha un'immagine [-1,1], di seguito è normalizzata in [0,1]\n",
        "min_p, max_p = np.amin(perturb), np.amax(perturb)\n",
        "perturb = (perturb - min_p) / (max_p - min_p)\n",
        "#se non normalizzo, la funzione che uso per stampare ritaglia automaticamente nell'intervallo [0,1] quindi perdo informazioni\n",
        "\n",
        "print('Average perturbation: {:4.2f}'.format(perturbation_mean))"
      ],
      "execution_count": null,
      "outputs": []
    },
    {
      "cell_type": "markdown",
      "metadata": {
        "id": "nH0_wJWt2XuF"
      },
      "source": [
        "#**Testing su immagini perturbate**"
      ]
    },
    {
      "cell_type": "code",
      "metadata": {
        "colab": {
          "base_uri": "https://localhost:8080/"
        },
        "id": "V00SgiXfaAFl",
        "outputId": "6845db88-4b5a-4c35-a55f-fc3dfa6d9e68"
      },
      "source": [
        "# Evaluate the classifier on the adversarial samples FGM\n",
        "value_preds_after=classifier.predict(x_test_adv)\n",
        "preds_after = np.argmax(value_preds_after, axis=1)\n",
        "acc_after = (np.sum(preds_after == np.argmax(y_test, axis=1)) / y_test.shape[0])*100\n",
        "print(\"Accuracy on adversarial samples:\", (round(acc_after,2)))\n",
        "#print(\"classi predette su test set perturbato: \",preds_after)"
      ],
      "execution_count": null,
      "outputs": [
        {
          "output_type": "stream",
          "name": "stdout",
          "text": [
            "Accuracy on adversarial samples: 5.800000000000001\n"
          ]
        }
      ]
    },
    {
      "cell_type": "markdown",
      "metadata": {
        "id": "nLcnge6A0Npi"
      },
      "source": [
        "# **Stampa subplot prime 10 immagini**"
      ]
    },
    {
      "cell_type": "code",
      "metadata": {
        "id": "cB1Q6Id6_CNR"
      },
      "source": [
        "\n",
        "#stampa subplot\n",
        "\n",
        "#cv2_imshow(cv2.hconcat([x_test[0,:,:,:]*255,x_test[1,:,:,:]*255,x_test[2,:,:,:]*255]))\n",
        "#N.B. plt.imshow usa range 0,1 per immagini rgb, mentre cv2 usa 0,255\n",
        "import matplotlib.pyplot as plt    \n",
        "#nel seguente ciclo for si crea un vettore delle classi predette ordinato per probabilità decrescente\n",
        "for i in range(10):#(x_test.shape[0]):\n",
        "  value=(value_preds_after[i,:]*100).round(2)\n",
        "  value_sorted=sorted(value,reverse=True)\n",
        "  classes=[]\n",
        "  for j in range(value.size) :\n",
        "    ind=np.where(value==value_sorted[j]) #restituisce l'indice in value del valore uguale a value_sorted[i], quindi è la classe\n",
        "    classes.append(ind[0][0]) #classes è il vettore finale\n",
        "  \n",
        "  #in seguito per ogni immagine del test set si stampa un subplot\n",
        "  fig = plt.figure(figsize=[8,8])\n",
        "  plt.subplots_adjust(wspace=0.6)\n",
        "  print('\\033[1m'+\"Immagine \"+'\\033[1m',i) #valore END: '\\033[0m'\n",
        "  #originale\n",
        "  ax1 = fig.add_subplot(131) #subplot con 3 righe e due colonne\n",
        "  ax1.axis('off')\n",
        "  ax1.imshow(cv2.rotate(x_test[i,:,:,:],cv2.cv2.ROTATE_90_CLOCKWISE))\n",
        "  ax1.title.set_text(\"originale\\nclasse reale: \"+str(np.argmax(y_test[i,:]))+\"\\nclasse predetta: \"+str(preds[i]))\n",
        "  #perturbazione\n",
        "  ax2 = fig.add_subplot(132)\n",
        "  ax2.imshow(cv2.rotate(perturb[i,:,:,:],cv2.cv2.ROTATE_90_CLOCKWISE))\n",
        "  ax2.axis('off')\n",
        "  ax2.title.set_text(\"perturbazione\")\n",
        "  #perturbata\n",
        "  ax3 = fig.add_subplot(133)\n",
        "  ax3.imshow(cv2.rotate(x_test_adv[i,:,:,:],cv2.cv2.ROTATE_90_CLOCKWISE))#,aspect='auto')\n",
        "  ax3.axis('off')\n",
        "  ax3.title.set_text(\"perturbata\\ntop5 classi predette: \"+str(classes[:5])+\"\\ncon valori: \"+str(value_sorted[:5]))\n",
        "  plt.show()"
      ],
      "execution_count": null,
      "outputs": []
    },
    {
      "cell_type": "markdown",
      "metadata": {
        "id": "nkdhgkab0e-B"
      },
      "source": [
        "# Def funzione che perturba una singola immagine"
      ]
    },
    {
      "cell_type": "code",
      "metadata": {
        "id": "jkTzu6ZAcbgU"
      },
      "source": [
        "def perturb_img(img_g : np.ndarray,real_class : int):\n",
        "  img_g=cv2.resize(img_g,(96,96))\n",
        "  print(\"\\nImmagine originale, classe reale: \",real_class)\n",
        "  cv2_imshow(img_g)\n",
        "\n",
        "  min_, max_ = np.amin(img_g), np.amax(img_g)\n",
        "  normalized_img_g = (img_g - min_) / (max_ - min_) #normalizzo tra [0,1]\n",
        "  normalized_img_g=normalized_img_g.reshape(1,96,96,3)\n",
        "\n",
        "  pred_value=classifier.predict(normalized_img_g)\n",
        "  pred=np.argmax(pred_value)\n",
        "  print(\"Classe predetta: \",pred)\n",
        "  print(\"Valori predetti per ogni classe:\\n\",pred_value)\n",
        "  #generazione perturbazione\n",
        "  img_adv = attack.generate(x=normalized_img_g)\n",
        "  print(\"\\nImmagine perturbata\")\n",
        "  cv2_imshow(img_adv[0,:,:,:]*max_)\n",
        "  pred_value_adv=classifier.predict(img_adv)\n",
        "  pred_adv=np.argmax(pred_value_adv)\n",
        "  print(\"Classe predetta: \",pred_adv)\n",
        "  print(\"Valori predetti per ogni classe:\\n\",pred_value_adv)"
      ],
      "execution_count": null,
      "outputs": []
    },
    {
      "cell_type": "markdown",
      "metadata": {
        "id": "fHJP8DBX0k90"
      },
      "source": [
        "# Testing su immagine di google"
      ]
    },
    {
      "cell_type": "code",
      "metadata": {
        "id": "TcVXbpP3TBk8"
      },
      "source": [
        "#test su immagini di google\n",
        "\n",
        "#10 classes: airplane, bird, car, cat, deer, dog, horse, monkey, ship, truck.\n",
        "\n",
        "img_g1=cv2.imread(path_img_drive+\"airplane.jpg\")\n",
        "img_g2=cv2.imread(path_img_drive+\"dog.jpg\")\n",
        "\n",
        "perturb_img(img_g1,0)\n",
        "perturb_img(img_g2,5)\n",
        "\n",
        "\n"
      ],
      "execution_count": null,
      "outputs": []
    }
  ]
}